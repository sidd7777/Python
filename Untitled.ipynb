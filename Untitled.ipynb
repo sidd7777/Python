{
 "cells": [
  {
   "cell_type": "code",
   "execution_count": 1,
   "metadata": {},
   "outputs": [
    {
     "name": "stdout",
     "output_type": "stream",
     "text": [
      "Siddhesh\n",
      "19\n"
     ]
    }
   ],
   "source": [
    "class Details :\n",
    "    def __init__(self,name,age):\n",
    "        self.name=name\n",
    "        self.age=age\n",
    "p1 = Details(\"Siddhesh\",19)\n",
    "\n",
    "print(p1.name)\n",
    "print(p1.age)        "
   ]
  },
  {
   "cell_type": "code",
   "execution_count": 2,
   "metadata": {},
   "outputs": [
    {
     "name": "stdout",
     "output_type": "stream",
     "text": [
      "my name is SIDDHESH\n",
      "my age is 19\n"
     ]
    }
   ],
   "source": [
    "class Details :\n",
    "    def __init__(self,name,age):\n",
    "        self.name=name\n",
    "        self.age=age\n",
    "    def myfunc(self):\n",
    "        print(\"my name is {}\".format(self.name))\n",
    "        print(\"my age is {}\".format(self.age))\n",
    "p1 = Details(\"SIDDHESH\",19)\n",
    "\n",
    "p1.myfunc()"
   ]
  },
  {
   "cell_type": "code",
   "execution_count": 6,
   "metadata": {},
   "outputs": [
    {
     "name": "stdout",
     "output_type": "stream",
     "text": [
      "My name is Siddhesh\n",
      "My age is 20\n"
     ]
    }
   ],
   "source": [
    "class Details:\n",
    "    def __init__(abc,name,age):\n",
    "        abc.name=name\n",
    "        abc.age=age\n",
    "    def myfunc(hello):\n",
    "        print(\"My name is {}\".format(hello.name))\n",
    "        print(\"My age is {}\".format(hello.age))\n",
    "p1 = Details(\"Siddhesh\",20)\n",
    "p1.myfunc()"
   ]
  },
  {
   "cell_type": "code",
   "execution_count": 10,
   "metadata": {},
   "outputs": [
    {
     "name": "stdout",
     "output_type": "stream",
     "text": [
      "NUMBER OF EMPLOYEES : 1\n",
      "NAME :  SIDDHESH AGE :  20 SALARY :  100000\n",
      "NUMBER OF EMPLOYEES : 2\n",
      "NAME :  STEVEN AGE :  20 SALARY :  100000\n",
      "NUMBER OF EMPLOYEES : 3\n",
      "NAME :  PRIYANK AGE :  19 SALARY :  100000\n",
      "NUMBER OF EMPLOYEES : 4\n",
      "NAME :  REET AGE :  18 SALARY :  100000\n"
     ]
    }
   ],
   "source": [
    "class Employee:\n",
    "    empcount=0\n",
    "    def __init__(self,name,age,salary):\n",
    "        self.name=name\n",
    "        self.age=age\n",
    "        self.salary=salary\n",
    "        Employee.empcount+=1\n",
    "    def count(self):\n",
    "        print(\"NUMBER OF EMPLOYEES : {}\".format(Employee.empcount))\n",
    "    def details(self):\n",
    "        print(\"NAME : \",self.name,\"AGE : \",self.age,\"SALARY : \",self.salary)\n",
    "e1= Employee(\"SIDDHESH\",20,100000)\n",
    "e1.count()\n",
    "e1.details()\n",
    "e2= Employee(\"STEVEN\",20,100000)\n",
    "e2.count()\n",
    "e2.details()\n",
    "e3= Employee(\"PRIYANK\",19,100000)\n",
    "e3.count()\n",
    "e3.details()\n",
    "e4= Employee(\"REET\",18,100000)\n",
    "e4.count()\n",
    "e4.details()"
   ]
  },
  {
   "cell_type": "code",
   "execution_count": null,
   "metadata": {},
   "outputs": [],
   "source": [
    "class Bill :\n",
    "    def __init__(self,price,item):\n",
    "        self.price = price\n",
    "        self.item = item\n",
    "        \n",
    "        for i in range(0,len.(self.item)):\n",
    "            self.amt+=i\n",
    "    def display(self):\n",
    "        print(\"\\tITEM\\t\\tPRICE\\n\")\n",
    "        for i in range(0,len.(self.item)):\n",
    "            print(\"\\t{}\\t\\t{}\".format(self.item,self.price))\n",
    "        print(\"TOTAL AMOUNT IS {}\".format(self.amt))    \n",
    "class Cash(Bill):\n",
    "    def __init__(self,price,item,denom,val):\n",
    "        Bill.init(self,price,item)\n",
    "        self.denom = denom\n",
    "        self.val = val\n",
    "    def display(self):\n",
    "        Bill.display(self)\n",
    "        print(\"NUMBER OF NOTES OF {} ARE {}\".format(self.denom,self.val))\n",
    "class Cheque(Bill):\n",
    "    def __init__(self,price,item,cno,bank):\n",
    "        Bill.init(self,price,item)\n",
    "        self.cno = cno\n",
    "        self.bank = bank\n",
    "\n",
    "    def display(self):\n",
    "        Bill.display(self)\n",
    "        print(\"BANK NAME : {}\".format(self.bank))\n",
    "        print(\"ACCOUNT NUMBER : {}\".format(self.cno))\n",
    "n = int(input(\"Enter number of items\"))\n",
    "items = []\n",
    "price = []\n",
    "for i in n:\n",
    "    items[i] = input(\"NAME OF ITEM : \")\n",
    "    price[i] = int(input(\"PRICE : \"))\n",
    "bill1 = Cash()\n",
    "        \n",
    "        \n",
    "        "
   ]
  },
  {
   "cell_type": "code",
   "execution_count": null,
   "metadata": {},
   "outputs": [],
   "source": []
  }
 ],
 "metadata": {
  "kernelspec": {
   "display_name": "Python 3",
   "language": "python",
   "name": "python3"
  },
  "language_info": {
   "codemirror_mode": {
    "name": "ipython",
    "version": 3
   },
   "file_extension": ".py",
   "mimetype": "text/x-python",
   "name": "python",
   "nbconvert_exporter": "python",
   "pygments_lexer": "ipython3",
   "version": "3.6.5"
  }
 },
 "nbformat": 4,
 "nbformat_minor": 2
}
