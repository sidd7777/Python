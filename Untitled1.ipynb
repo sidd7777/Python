{
 "cells": [
  {
   "cell_type": "code",
   "execution_count": 2,
   "metadata": {},
   "outputs": [
    {
     "ename": "IndentationError",
     "evalue": "expected an indented block (<ipython-input-2-0031a495bda7>, line 4)",
     "output_type": "error",
     "traceback": [
      "\u001b[0;36m  File \u001b[0;32m\"<ipython-input-2-0031a495bda7>\"\u001b[0;36m, line \u001b[0;32m4\u001b[0m\n\u001b[0;31m    def __init__(self, name):\u001b[0m\n\u001b[0m      ^\u001b[0m\n\u001b[0;31mIndentationError\u001b[0m\u001b[0;31m:\u001b[0m expected an indented block\n"
     ]
    }
   ],
   "source": [
    "class Person(object): \n",
    "\n",
    "# Constructor \n",
    "def __init__(self, name): \n",
    "self.name = name \n",
    "\n",
    "# To get name \n",
    "  def getName(self): \n",
    "return self.name \n",
    "\n",
    "# To check if this person is employee \n",
    " def isEmployee(self): \n",
    "return False\n",
    "\n",
    "\n",
    "# Inherited or Sub class (Note Person in bracket)  \n",
    "class Employee(Person): \n",
    " def isEmployee(self): \n",
    "return True\n",
    "emp = Person(\"Geek1\") # An Object of Person \n",
    "print(emp.getName(), emp.isEmployee()) \n",
    "\n",
    "emp = Employee(\"Geek2\") # An Object of Employee \n",
    "print(emp.getName(), emp.isEmployee()) \n"
   ]
  },
  {
   "cell_type": "code",
   "execution_count": 11,
   "metadata": {},
   "outputs": [],
   "source": [
    "class person():\n",
    "    def __init__(self,name):\n",
    "        print(\"object created\")\n",
    "        print(\"your name is \",name)\n",
    "    def srname(self):\n",
    "        srname=input(\"what is your srname\")\n",
    "        print(\"YOUR FULL NAME IS \",srname)\n",
    "        \n",
    "    "
   ]
  },
  {
   "cell_type": "code",
   "execution_count": 12,
   "metadata": {},
   "outputs": [
    {
     "name": "stdout",
     "output_type": "stream",
     "text": [
      "object created\n",
      "your name is  sakshi\n"
     ]
    }
   ],
   "source": [
    "p=person('sakshi')"
   ]
  },
  {
   "cell_type": "code",
   "execution_count": 13,
   "metadata": {},
   "outputs": [
    {
     "name": "stdout",
     "output_type": "stream",
     "text": [
      "object created\n",
      "your name is  rahul\n"
     ]
    }
   ],
   "source": [
    "q=person('rahul')"
   ]
  },
  {
   "cell_type": "code",
   "execution_count": 14,
   "metadata": {},
   "outputs": [
    {
     "name": "stdout",
     "output_type": "stream",
     "text": [
      "what is your srnamevora\n",
      "YOUR FULL NAME IS  vora\n"
     ]
    }
   ],
   "source": [
    "p.srname()"
   ]
  },
  {
   "cell_type": "code",
   "execution_count": 15,
   "metadata": {},
   "outputs": [
    {
     "name": "stdout",
     "output_type": "stream",
     "text": [
      "what is your srnamevora\n",
      "YOUR FULL NAME IS  vora\n"
     ]
    }
   ],
   "source": [
    "q.srname()"
   ]
  },
  {
   "cell_type": "code",
   "execution_count": 19,
   "metadata": {},
   "outputs": [
    {
     "name": "stdout",
     "output_type": "stream",
     "text": [
      "your salary is 50000\n"
     ]
    }
   ],
   "source": [
    "class prog():\n",
    "    def __init__(self,sal):\n",
    "        print(\"your salary is\",sal)\n",
    "    p=prog(50000)\n",
    "    def gross(self):\n",
    "        gross=input(\"what is your net amount\")\n",
    "        print(\"your gross salary is\",gross)\n"
   ]
  },
  {
   "cell_type": "code",
   "execution_count": 21,
   "metadata": {},
   "outputs": [
    {
     "name": "stdout",
     "output_type": "stream",
     "text": [
      "your salary is 5000\n"
     ]
    }
   ],
   "source": [
    "p=prog(5000)\n"
   ]
  },
  {
   "cell_type": "code",
   "execution_count": 22,
   "metadata": {},
   "outputs": [
    {
     "name": "stdout",
     "output_type": "stream",
     "text": [
      "what is your net amount20000\n",
      "your gross salary is 20000\n"
     ]
    }
   ],
   "source": [
    "p.gross()"
   ]
  },
  {
   "cell_type": "code",
   "execution_count": null,
   "metadata": {},
   "outputs": [],
   "source": []
  }
 ],
 "metadata": {
  "kernelspec": {
   "display_name": "Python 3",
   "language": "python",
   "name": "python3"
  },
  "language_info": {
   "codemirror_mode": {
    "name": "ipython",
    "version": 3
   },
   "file_extension": ".py",
   "mimetype": "text/x-python",
   "name": "python",
   "nbconvert_exporter": "python",
   "pygments_lexer": "ipython3",
   "version": "3.6.5"
  }
 },
 "nbformat": 4,
 "nbformat_minor": 2
}
